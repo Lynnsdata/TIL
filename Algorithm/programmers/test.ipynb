{
 "cells": [
  {
   "cell_type": "code",
   "execution_count": 1,
   "metadata": {},
   "outputs": [],
   "source": [
    "board = [[0,0,0,0,0],[0,0,1,0,3],[0,2,5,0,1],[4,2,4,4,2],[3,5,1,3,1]]"
   ]
  },
  {
   "cell_type": "code",
   "execution_count": 2,
   "metadata": {},
   "outputs": [],
   "source": [
    "moves = [1,5,3,5,1,2,1,4]"
   ]
  },
  {
   "cell_type": "code",
   "execution_count": 3,
   "metadata": {},
   "outputs": [],
   "source": [
    "bag = []\n",
    "count = 0"
   ]
  },
  {
   "cell_type": "code",
   "execution_count": 5,
   "metadata": {},
   "outputs": [
    {
     "name": "stdout",
     "output_type": "stream",
     "text": [
      "4\n",
      "[4, 2, 4, 2, 3, 2, 1, 5]\n"
     ]
    }
   ],
   "source": [
    "for mvIdx in range(len(moves)): # 인덱스화\n",
    "    # 인덱스는 0부터 시작하므로 1씩 빼줌\n",
    "    moves[mvIdx] -= 1\n",
    "'''\n",
    "    col : moves\n",
    "    row : board length\n",
    "'''\n",
    "for col in range(len(moves)): # 열\n",
    "    for row in range(len(board)): # 행\n",
    "        if board[row][moves[col]] != 0:\n",
    "            # 0이 아니면 charactor에 대입\n",
    "            charactor = board[row][moves[col]]\n",
    "            # 해당 값 0으로 만들어주기\n",
    "            board[row][moves[col]] = 0\n",
    "            # bag 비었는지 확인 후, charactor과 bag의 끝 수가 같다면\n",
    "            if bag and charactor == bag[-1]:\n",
    "                # 2개씩 없어지므로 +2\n",
    "                count += 2\n",
    "                # bag에선 맨끝 수 없앰\n",
    "                bag.pop()\n",
    "                break\n",
    "            else:\n",
    "                bag.append(charactor)\n",
    "                break\n",
    "print(count)\n",
    "print(bag)\n",
    "\n"
   ]
  },
  {
   "cell_type": "code",
   "execution_count": null,
   "metadata": {},
   "outputs": [],
   "source": []
  }
 ],
 "metadata": {
  "kernelspec": {
   "display_name": "Python 3.10.5 64-bit",
   "language": "python",
   "name": "python3"
  },
  "language_info": {
   "codemirror_mode": {
    "name": "ipython",
    "version": 3
   },
   "file_extension": ".py",
   "mimetype": "text/x-python",
   "name": "python",
   "nbconvert_exporter": "python",
   "pygments_lexer": "ipython3",
   "version": "3.10.5"
  },
  "orig_nbformat": 4,
  "vscode": {
   "interpreter": {
    "hash": "beedbe2faf2f7048d727558d0bc3221e7eba2a0b921cac4d4771b2feb8f74b30"
   }
  }
 },
 "nbformat": 4,
 "nbformat_minor": 2
}
